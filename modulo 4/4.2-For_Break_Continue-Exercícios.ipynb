{
 "cells": [
  {
   "cell_type": "markdown",
   "id": "29e89030",
   "metadata": {},
   "source": [
    "# Módulo 4 - Repetições\n",
    "\n",
    "## Aulas 4.2 - Comando ```for``` e 4.3 Break e Continue"
   ]
  },
  {
   "cell_type": "markdown",
   "id": "a45b42df",
   "metadata": {},
   "source": [
    "### Q1.\n",
    "\n",
    "Crie um programa em Python que utilize o comando for para imprimir os números de 10 a 1, em ordem decrescente."
   ]
  },
  {
   "cell_type": "code",
   "execution_count": 1,
   "id": "55a75b3d",
   "metadata": {},
   "outputs": [
    {
     "name": "stdout",
     "output_type": "stream",
     "text": [
      "10\n",
      "9\n",
      "8\n",
      "7\n",
      "6\n",
      "5\n",
      "4\n",
      "3\n",
      "2\n",
      "1\n"
     ]
    }
   ],
   "source": [
    "for numero in range(10, 0, -1):\n",
    "    print(numero)\n"
   ]
  },
  {
   "cell_type": "markdown",
   "id": "94b47c36",
   "metadata": {},
   "source": [
    "### Q2.\n",
    "\n",
    "Dado um número inteiro positivo informado pelo usuário, crie um programa em Python que utilize o comando for para calcular e exibir a soma dos números de 1 até o número informado. Ou seja, $1 + 2 + 3 + ... + n$\n",
    "\n",
    "Exemplo de interação:\n",
    "```\n",
    "Digite um número: 5\n",
    "A soma dos números de 1 a 5 é 15\n",
    "```\n"
   ]
  },
  {
   "cell_type": "code",
   "execution_count": 4,
   "id": "45b71596",
   "metadata": {},
   "outputs": [
    {
     "name": "stdout",
     "output_type": "stream",
     "text": [
      "A soma dos números de 1 a n 5 é 15\n"
     ]
    }
   ],
   "source": [
    "# solicita um número\n",
    "n = int(input(\"Digite um número: \"))\n",
    "\n",
    "# inicializa a variável soma\n",
    "soma = 0\n",
    "\n",
    "# soma os número de 1 até n\n",
    "for i in range (1, n + 1):\n",
    "    soma += i\n",
    "\n",
    "# resultado\n",
    "print(f\"A soma dos números de 1 a n {n} é {soma}\")\n",
    "\n"
   ]
  },
  {
   "cell_type": "markdown",
   "id": "0411d170",
   "metadata": {},
   "source": [
    "### Q3.\n",
    "\n",
    "Escreva um programa que lê 10 valores inteiros positivos do usuário e ao final imprime a média dos valores digitados com duas casas decimais.\n",
    "\n",
    "```\n",
    "Digite 10 números positivos:\n",
    "3\n",
    "2\n",
    "12\n",
    "14\n",
    "20\n",
    "42\n",
    "19\n",
    "0\n",
    "8\n",
    "1\n",
    "A média dos valores digitados é 12.10\n",
    "```"
   ]
  },
  {
   "cell_type": "code",
   "execution_count": 5,
   "id": "3f72f358",
   "metadata": {},
   "outputs": [
    {
     "name": "stdout",
     "output_type": "stream",
     "text": [
      "Digite 10 número positivos: \n",
      "A média dos valores digitados é 7.60\n"
     ]
    }
   ],
   "source": [
    "# inicializa a variável soma\n",
    "soma = 0\n",
    "\n",
    "print(\"Digite 10 número positivos: \")\n",
    "\n",
    "# repete 10 vezes para ler os números\n",
    "for i in range(10):\n",
    "    numero = int(input()) #lê o número do usuário\n",
    "    soma += numero #soma ao total\n",
    "\n",
    "# calcula média\n",
    "media = soma / 10\n",
    "\n",
    "# mostra a média com duas casas decimais\n",
    "print(f\"A média dos valores digitados é {media:.2f}\")\n"
   ]
  },
  {
   "cell_type": "markdown",
   "id": "d62e27ff",
   "metadata": {},
   "source": [
    "### Q4.\n",
    "\n",
    "Você vai criar um sistema que registra os resultados dos jogos do Atlético MG ao longo de um campeonato. Seu sistema vai receber os resultados de todos os jogos do Galo, e deve calcular a pontuação do time sabendo que vitórias valem 3 pontos, empates 1 ponto e derrotas 0 pontos.\n",
    "\n",
    "Entrada: <br>\n",
    "A primeira linha de entrada é um inteiro N com a quantidade jogos do galo. Para cada jogo você deve ler 2 inteiros, o primeiro com a quantidade de gols do galo e o segundo com a quantidade de gols do time oponente. \n",
    "\n",
    "Saída: <br>\n",
    "Apresente a soma de vitórias, empates e derrotas do galo, junto com o cálculo da pontuação total.\n",
    "\n",
    "Ex:\n",
    "```\n",
    "Entrada:\n",
    "4\n",
    "2\n",
    "0\n",
    "1\n",
    "1\n",
    "0\n",
    "3\n",
    "1\n",
    "0\n",
    "\n",
    "Saída:\n",
    "Vitórias: 2\n",
    "Empates: 1\n",
    "Derrotas: 1\n",
    "Pontuação: 7\n",
    "\n",
    "```\n",
    "\n",
    "\n"
   ]
  },
  {
   "cell_type": "code",
   "execution_count": null,
   "id": "d3fdfc2a",
   "metadata": {},
   "outputs": [
    {
     "name": "stdout",
     "output_type": "stream",
     "text": [
      "Vitórias: 1\n",
      "Empates: 0\n",
      "Derrotas:\n",
      "Pontos totais: 3\n",
      "Vitórias: 1\n",
      "Empates: 1\n",
      "Derrotas:\n",
      "Pontos totais: 4\n",
      "Vitórias: 1\n",
      "Empates: 1\n",
      "Derrotas:\n",
      "Pontos totais: 4\n",
      "Vitórias: 2\n",
      "Empates: 1\n",
      "Derrotas:\n",
      "Pontos totais: 7\n"
     ]
    }
   ],
   "source": [
    "n = int(input(\"Quantidade de jogos: \"))\n",
    "\n",
    "soma_empates, soma_vitorias, soma_derrotas = 0, 0, 0\n",
    "\n",
    "for jogo in range(n):\n",
    "    galo = int(input(f\"Gols do galo {jogo}: \"))\n",
    "    adversario = int(input(f\"Gols do adversario {jogo}: \"))\n",
    "\n",
    "    if galo > adversario:\n",
    "        soma_vitorias += 1\n",
    "    elif galo < adversario:\n",
    "        soma_derrotas += 1\n",
    "    else:\n",
    "        soma_empates += 1\n",
    "\n",
    "    pontos = (vitorias * 3) + (empates * 1)\n",
    "\n",
    "    print(\"Vitórias:\", soma_vitorias)\n",
    "    print(\"Empates:\", soma_empates)\n",
    "    print(\"Derrotas:\"), soma_derrotas\n",
    "    print(\"Pontos totais:\", 3*soma_vitorias+soma_empates)\n",
    "    \n"
   ]
  },
  {
   "cell_type": "markdown",
   "id": "fc98604d",
   "metadata": {},
   "source": [
    "## Q5.\n",
    "\n",
    "Faça um programa que lê dois inteiros N e M, e imprime na tela um campo de batalha naval. O tabuleiro deve possuir N linhas e M colunas. A primeira linha é composta por um espaço em branco e o cabeçalho das colunas, ou seja, valores de 1 a M. As N linhas seguintes iniciam com o cabeçalho da linha, ou seja, seu número, seguido de M caracteres \"/\" (barra) indicando uma possível posição jogável. \n",
    "\n",
    "```\n",
    "Entrada:\n",
    "5\n",
    "4\n",
    "\n",
    "Saída:\n",
    "  1 2 3 4 \n",
    "1 / / / / \n",
    "2 / / / / \n",
    "3 / / / / \n",
    "4 / / / / \n",
    "5 / / / / \n",
    "```\n",
    "\n",
    "Para esse exercício, precisamos lembrar que o comando print implicitamente adiciona uma quebra de linha ao final da impressão. Podemos interferir no final da impressão adicionando mais uma entrada ao print. No exemplo, finalizamos cada linha com um espaço em branco:\n",
    "```python\n",
    "print(\"Texto qualquer\", end = \" \")\n",
    "```"
   ]
  },
  {
   "cell_type": "code",
   "execution_count": 12,
   "id": "a60ef197",
   "metadata": {},
   "outputs": [
    {
     "name": "stdout",
     "output_type": "stream",
     "text": [
      "  1 2 3 4 \n",
      "1 / / / / \n",
      "2 / / / / \n",
      "3 / / / / \n",
      "4 / / / / \n",
      "5 / / / / \n"
     ]
    }
   ],
   "source": [
    "# lê os valores de n e m\n",
    "n = int(input())\n",
    "m = int(input())\n",
    "\n",
    "# imprime o cabeçalho\n",
    "print(\" \", end=\" \")\n",
    "for j in range(1, m + 1):\n",
    "    print(j, end=\" \")\n",
    "print()\n",
    "\n",
    "# imprime cada linha do tabuleiro\n",
    "for i in range(1, n + 1):\n",
    "    print(i, end=\" \")\n",
    "    for j in range(m):\n",
    "        print(\"/\", end=\" \")\n",
    "    print()\n"
   ]
  },
  {
   "cell_type": "markdown",
   "id": "4654dc0b",
   "metadata": {},
   "source": [
    "---\n",
    "## Break e Continue"
   ]
  },
  {
   "cell_type": "markdown",
   "id": "24fe9d85",
   "metadata": {},
   "source": [
    "### Q6.\n",
    "\n",
    "Escreva um programa que lê uma quantidade indefinida de valores e informa o maior e o menor valor digitados. A leitura é encerrada quando o usuário digitar o valor 0 (zero).\n",
    "\n",
    "```\n",
    "Entrada:\n",
    "12\n",
    "-1\n",
    "29\n",
    "11\n",
    "-5\n",
    "0\n",
    "\n",
    "Saída:\n",
    "Maior: 29\n",
    "Menor: -5\n",
    "```"
   ]
  },
  {
   "cell_type": "code",
   "execution_count": 14,
   "id": "ee1c466a",
   "metadata": {},
   "outputs": [
    {
     "name": "stdout",
     "output_type": "stream",
     "text": [
      "Maior: 29\n",
      "Menor: -5\n"
     ]
    }
   ],
   "source": [
    "# Inicializa as variáveis maior e menor como (sem valor)\n",
    "maior = None\n",
    "menor = None\n",
    "\n",
    "# laço infinito que só para quando o usuário digita 0\n",
    "while True:\n",
    "    numero = int(input(\"Digite um número(0 para sair): \"))\n",
    "\n",
    "# se o número digitado for 0 encerra o laço\n",
    "    if numero == 0:\n",
    "       break\n",
    "\n",
    "# atualiza o maior valor se for o primeiro numero ou se for maior que o atual\n",
    "    if maior is None or numero > maior:\n",
    "        maior = numero\n",
    "\n",
    "# atualiza o menor valor se for o primeiro numero ou se for menor que o atual\n",
    "    if menor is None or numero < menor:\n",
    "        menor = numero\n",
    "\n",
    "# exibe o resultado\n",
    "print(\"Maior:\", maior)\n",
    "print(\"Menor:\", menor)\n"
   ]
  },
  {
   "cell_type": "markdown",
   "id": "30d486f7",
   "metadata": {},
   "source": [
    "### Q7.\n",
    "\n",
    "Escreva um programa que lê uma quantidade indefinida de valores e informa o **produto** dos valores positivos digitados. A leitura é encerrada quando o usuário digitar o valor 0 (zero).\n",
    "\n",
    "```\n",
    "Entrada:\n",
    "2\n",
    "-1\n",
    "1\n",
    "3\n",
    "-5\n",
    "0\n",
    "\n",
    "Saída:\n",
    "Produto: 6\n",
    "```"
   ]
  },
  {
   "cell_type": "code",
   "execution_count": 15,
   "id": "2f1ac324",
   "metadata": {},
   "outputs": [
    {
     "name": "stdout",
     "output_type": "stream",
     "text": [
      "produto: 6\n"
     ]
    }
   ],
   "source": [
    "# inicializa o produto como 1\n",
    "produto = 1 \n",
    "\n",
    "# laço infinito para ler ate que o usuário digite 0\n",
    "while True:\n",
    "    # lê o número do usuário\n",
    "    numero = int(input(\"Digite um número (0 para sair): \"))\n",
    "\n",
    "    # se for 0, interrompe a leitura\n",
    "    if numero == 0:\n",
    "        break\n",
    "\n",
    "    # se o numero for positivo, multiplica pelo produto atual\n",
    "    if numero > 0:\n",
    "        produto *= numero\n",
    "\n",
    "# exibe o resultado\n",
    "print(\"produto:\", produto)\n"
   ]
  },
  {
   "cell_type": "markdown",
   "id": "e932f3cf",
   "metadata": {},
   "source": [
    "### Q8.\n",
    "\n",
    "Vamos fazer uma calculadora que aceita expressões aritméticas de qualquer tamanho até que o usuário digite a palavra \"Fim\". Sua calculadora executa apenas as operações \"+\", \"-\".\n",
    "\n",
    "```\n",
    "Entrada:\n",
    "5\n",
    "+\n",
    "8\n",
    "-\n",
    "3\n",
    "+\n",
    "2\n",
    "Fim\n",
    "\n",
    "Saída:\n",
    "12\n",
    "```"
   ]
  },
  {
   "cell_type": "code",
   "execution_count": 17,
   "id": "e835d870",
   "metadata": {},
   "outputs": [
    {
     "name": "stdout",
     "output_type": "stream",
     "text": [
      "Resultado: 12\n"
     ]
    }
   ],
   "source": [
    "# lê o primeiro número\n",
    "resultado = int(input(\"Digite o primeiro número: \"))\n",
    "\n",
    "# laço infinito\n",
    "while True:\n",
    "    #lê o proximo operador ou fim\n",
    "    operacao = input(\"Digite a operação ou 'Fim' para encerrar: \")\n",
    "\n",
    "    # se for 'fim', sai do laço\n",
    "    if operacao.lower() == \"fim\":\n",
    "        break\n",
    "\n",
    "    # se a operação não for + ou -, ignora e continua\n",
    "    if operacao not in [\"+\",\"-\"]:\n",
    "        print(\"Operação inválida. use apenas '+' ou '-'\")\n",
    "        continue\n",
    "\n",
    "    #lê o proximo número\n",
    "    numero = int(input(\"Digite o próximo número: \"))\n",
    "\n",
    "    # executa a operação\n",
    "    if operacao == \"+\":\n",
    "        resultado += numero\n",
    "    elif operacao == \"-\":\n",
    "        resultado -= numero\n",
    "\n",
    "# mostra o resultado final\n",
    "print(\"Resultado:\", resultado)\n"
   ]
  }
 ],
 "metadata": {
  "kernelspec": {
   "display_name": "Python 3",
   "language": "python",
   "name": "python3"
  },
  "language_info": {
   "codemirror_mode": {
    "name": "ipython",
    "version": 3
   },
   "file_extension": ".py",
   "mimetype": "text/x-python",
   "name": "python",
   "nbconvert_exporter": "python",
   "pygments_lexer": "ipython3",
   "version": "3.13.3"
  }
 },
 "nbformat": 4,
 "nbformat_minor": 5
}
