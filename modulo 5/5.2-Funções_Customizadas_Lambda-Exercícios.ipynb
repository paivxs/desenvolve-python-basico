{
 "cells": [
  {
   "cell_type": "markdown",
   "id": "cbdff5a5",
   "metadata": {},
   "source": [
    "# Módulo 5 - Funções\n",
    "\n",
    "## Aulas 5.2 - Funções Customizadas e 5.4 Funções ```lambda```"
   ]
  },
  {
   "cell_type": "markdown",
   "id": "28a3fee2",
   "metadata": {},
   "source": [
    "### Q1.\n",
    "\n",
    "- Sabendo que o código a seguir calcula o fatorial de n, escreva uma função chamada ```fatorial()``` que recebe um inteiro ```n``` como parâmetro e retorna o resultado do fatorial de ```n```. \n",
    "- No programa principal, peça ao usuário o valor de ```n```, chame a sua função e imprima o retorno.\n",
    "\n",
    "```python\n",
    "fat = 1\n",
    "for i in range(1, n+1):\n",
    "    fat *= i \n",
    "```"
   ]
  },
  {
   "cell_type": "code",
   "execution_count": 147,
   "id": "d126b3a5",
   "metadata": {},
   "outputs": [],
   "source": [
    "def fatorial(n):\n",
    "    if n < 0:\n",
    "        return \"Erro: número negativo\"\n",
    "    elif n == 0:\n",
    "        return 1\n",
    "    else:\n",
    "        fat = 1\n",
    "        for i in range(1, n + 1):\n",
    "         fat = fat * i\n",
    "        return fat\n",
    "    "
   ]
  },
  {
   "cell_type": "code",
   "execution_count": 148,
   "id": "6e4fe64e",
   "metadata": {},
   "outputs": [
    {
     "name": "stdout",
     "output_type": "stream",
     "text": [
      "O fatorial de 123 é 12146304367025329675766243241881295855454217088483382315328918161829235892362167668831156960612640202170735835221294047782591091570411651472186029519906261646730733907419814952960000000000000000000000000000\n"
     ]
    }
   ],
   "source": [
    "num = int(input(\"Digite um número: \"))\n",
    "resultado = fatorial(num)\n",
    "print(f\"O fatorial de {num} é {resultado}\")"
   ]
  },
  {
   "cell_type": "markdown",
   "id": "c0a1f599",
   "metadata": {},
   "source": [
    "### Q2.\n",
    "\n",
    "- Escreva uma função em Python chamada ```soma_quadrados``` que recebe dois números como parâmetros e retorna a soma dos seus quadrados. \n",
    "- No programa principal solicite ao usuário que insira dois números e utilize a função para exibir a soma dos quadrados."
   ]
  },
  {
   "cell_type": "code",
   "execution_count": 149,
   "id": "6dbddaad",
   "metadata": {},
   "outputs": [],
   "source": [
    "def soma_quadrados(numero1, numero2):\n",
    "    quadrado1 = numero1 * numero1\n",
    "    quadrado2 = numero2 * numero2\n",
    "    soma = quadrado1 + quadrado2\n",
    "    return soma \n"
   ]
  },
  {
   "cell_type": "code",
   "execution_count": 150,
   "id": "e1e2a855",
   "metadata": {},
   "outputs": [
    {
     "name": "stdout",
     "output_type": "stream",
     "text": [
      "A soma dos quadrados é: 32818\n"
     ]
    }
   ],
   "source": [
    "numero1 = int(input(\"Digite o primeiro número \"))\n",
    "numero2 = int(input(\"Digite o segundo número \"))\n",
    "resultado = soma_quadrados(numero1, numero2)\n",
    "print(\"A soma dos quadrados é:\", resultado)"
   ]
  },
  {
   "cell_type": "markdown",
   "id": "6ba34ce0",
   "metadata": {},
   "source": [
    "### Q3.\n",
    "\n",
    "- Crie uma função em Python chamada ```soma_digitos``` que recebe um número inteiro como parâmetro e retorna a soma dos seus dígitos. Por exemplo, para o número 123, a função deve retornar 6, $(1 + 2 + 3)$.\n",
    "    - O desafio aqui é separar os dígitos de um número inteiro usando operações aritméticas <br> <br>\n",
    "\n",
    "- No programa principal solicite ao usuário que insira um número e utilize a função ```soma_digitos``` para calcular e exibir a soma dos seus dígitos."
   ]
  },
  {
   "cell_type": "code",
   "execution_count": 163,
   "id": "34838ebf",
   "metadata": {},
   "outputs": [],
   "source": [
    "def soma_digitos(numero):\n",
    "    soma = 0\n",
    "    for digito in str(numero):\n",
    "        soma += int(digito)\n",
    "    return soma\n"
   ]
  },
  {
   "cell_type": "code",
   "execution_count": 164,
   "id": "27c35b21",
   "metadata": {},
   "outputs": [
    {
     "name": "stdout",
     "output_type": "stream",
     "text": [
      "A soma dos digitos é: 6\n"
     ]
    }
   ],
   "source": [
    "numero = int(input(\"Digite um número: \"))\n",
    "resultado = soma_digitos(numero)\n",
    "print(\"A soma dos digitos é:\", resultado)\n"
   ]
  },
  {
   "cell_type": "markdown",
   "id": "c318b159",
   "metadata": {},
   "source": [
    "### Q4.\n",
    "\n",
    "- Crie a função ```inverteValor()``` que recebe um inteiro de qualquer tamanho e retorna esse valor invertido usando apenas operações aritméticas\n",
    "- Crie a função ```verificaInverso()``` que recebe o valor original e o valor invertido e retorna verdadeiro se ambos forem igualmente par ou igualmente ímpar. Retorne falso caso contrário.\n",
    "- No programa principal, peça um valor do usuário e imprima o retorno de ambas as funções.\n"
   ]
  },
  {
   "cell_type": "code",
   "execution_count": 167,
   "id": "e4e47d1d",
   "metadata": {},
   "outputs": [],
   "source": [
    "def inverteValor(numero):\n",
    "    invertido = 0\n",
    "    while numero != 0:\n",
    "        digito = numero % 10\n",
    "        invertido = invertido * 10 + digito\n",
    "        numero = numero // 10\n",
    "    return invertido\n",
    "\n",
    "def verificaInverso(original, invertido):\n",
    "    if (original % 2 == invertido % 2):\n",
    "        return True\n",
    "    else:\n",
    "        return False\n",
    "\n",
    "\n"
   ]
  },
  {
   "cell_type": "code",
   "execution_count": 168,
   "id": "a9514e56",
   "metadata": {},
   "outputs": [
    {
     "name": "stdout",
     "output_type": "stream",
     "text": [
      "Número invertido: 4321\n",
      "Verificação se ambos são pares ou ímpares: False\n"
     ]
    }
   ],
   "source": [
    "numero = int(input(\"Digite um número: \"))\n",
    "invertido = inverteValor(numero)\n",
    "verificacao = verificaInverso(numero, invertido)\n",
    "\n",
    "print(\"Número invertido:\", invertido)\n",
    "print(\"Verificação se ambos são pares ou ímpares:\", verificacao)\n"
   ]
  },
  {
   "cell_type": "markdown",
   "id": "329be966",
   "metadata": {},
   "source": [
    "### Q5.\n",
    "\n",
    "Você está desenvolvendo um programa para auxiliar em cálculos de geometria básica. Crie as seguintes funções:\n",
    "- A função ```calcula_perimetro_triangulo()``` que recebe três inteiros correspondentes aos lados de um triângulo e retorna o perímetro do triângulo, ou seja, a soma dos seus lados.\n",
    "- A função ```calcula_perimetro_circulo()``` que recebe um inteiro referente ao raio do círculo e retorna o perímetro do círculo, dado por $2 \\pi r$. Use a constante $\\pi$ da biblioteca ```math```.\n",
    "- A função ```calcula_perimetro_retangulo()``` que possui um parâmetro obrigatório ```lado1``` e um opcional ```lado2```, ambos inteiros. Se o valor opcional não for fornecido, significa que se trata de um quadrado. Sua função deve calcular e retornar o perímetro do retângulo, ou seja, a soma de seus lados. \n",
    "    - Para o quadrado, é dado por $4 \\times lado1$\n",
    "    - Para o retângulo é dado por $2 \\times lado1 + 2 \\times lado2$\n",
    "    \n",
    "- No programa principal apresente um menu com as opções disponíveis do seu sistema e uma quarta opção ```Sair```. Solicite ao usuário a opção desejada, solicite as entradas correspondentes à opção escolhida, invoque a respective função e apresente o seu retorno. Seu programa deve retornar ao menu até que o usuário escolha a opção ```Sair```\n",
    "\n",
    "Exemplo de interação:\n",
    "```\n",
    "1 - Calcular perímetro triângulo\n",
    "2 - Calcular perímetro círculo\n",
    "3 - Calcular perímetro retângulo\n",
    "4 - Sair\n",
    "\n",
    "Opção: 1\n",
    "Digite os três lados do triângulo:\n",
    "3\n",
    "4\n",
    "5\n",
    "O perímetro é: 12\n",
    "\n",
    "1 - Calcular perímetro triângulo\n",
    "2 - Calcular perímetro círculo\n",
    "3 - Calcular perímetro retângulo\n",
    "4 - Sair\n",
    "\n",
    "Opção: 3\n",
    "Informe os dois lados do retângulo. Se for um quadrado, digite 0 para o segundo valor:\n",
    "5\n",
    "0\n",
    "O perímetro é: 20\n",
    "\n",
    "1 - Calcular perímetro triângulo\n",
    "2 - Calcular perímetro círculo\n",
    "3 - Calcular perímetro retângulo\n",
    "4 - Sair\n",
    "\n",
    "Opção: 4\n",
    "```"
   ]
  },
  {
   "cell_type": "code",
   "execution_count": 2,
   "id": "0793d328",
   "metadata": {},
   "outputs": [],
   "source": [
    "import math\n",
    "\n",
    "def perimetro_triangulo(lado1, lado2, lado3,):\n",
    "    return lado1 + lado2 + lado3\n",
    "def perimetro_circulo(raio):\n",
    "    return 2 * math.pi * raio\n",
    "def perimetro_retangulo(lado1, lado2=None):\n",
    "    if lado2:\n",
    "        return 2 * (lado1 + lado2)\n",
    "    return 4 * lado1"
   ]
  },
  {
   "cell_type": "code",
   "execution_count": 7,
   "id": "36269c71",
   "metadata": {},
   "outputs": [
    {
     "name": "stdout",
     "output_type": "stream",
     "text": [
      "\n",
      "Escolha uma opção:\n",
      "1 - Perímetro triângulo\n",
      "2 - Perímetro círculo\n",
      "3 - Perímetro retângulo ou quadrado\n",
      "4 - Sair\n",
      "Perímetro do triângulo: 12.0\n",
      "\n",
      "Escolha uma opção:\n",
      "1 - Perímetro triângulo\n",
      "2 - Perímetro círculo\n",
      "3 - Perímetro retângulo ou quadrado\n",
      "4 - Sair\n",
      "Perímetro do círculo: 18.84955592153876\n",
      "\n",
      "Escolha uma opção:\n",
      "1 - Perímetro triângulo\n",
      "2 - Perímetro círculo\n",
      "3 - Perímetro retângulo ou quadrado\n",
      "4 - Sair\n",
      "Perímetro do retângulo: 20.0\n",
      "\n",
      "Escolha uma opção:\n",
      "1 - Perímetro triângulo\n",
      "2 - Perímetro círculo\n",
      "3 - Perímetro retângulo ou quadrado\n",
      "4 - Sair\n",
      "Saindo programa...\n"
     ]
    }
   ],
   "source": [
    "while True:\n",
    "    print(\"\\nEscolha uma opção:\")\n",
    "    print(\"1 - Perímetro triângulo\")\n",
    "    print(\"2 - Perímetro círculo\")\n",
    "    print(\"3 - Perímetro retângulo ou quadrado\")\n",
    "    print(\"4 - Sair\")\n",
    "\n",
    "    opcao = input(\"Opção: \")\n",
    "\n",
    "    if opcao == '1':\n",
    "        lado1 = float(input(\"Digite lado 1: \"))\n",
    "        lado2 = float(input(\"Digite lado 2: \"))\n",
    "        lado3 = float(input(\"Digite lado 3: \"))\n",
    "        print(\"Perímetro do triângulo:\", perimetro_triangulo(lado1, lado2, lado3))\n",
    "\n",
    "    elif opcao == '2':\n",
    "        raio = float(input(\"Digite o raio do círculo:\" ))\n",
    "        print(\"Perímetro do círculo:\", perimetro_circulo(raio))\n",
    "\n",
    "    elif opcao == '3':\n",
    "        lado1 = float(input(\"Digite o lado 2 ou pressione enter se for quadrado: \"))\n",
    "        if lado2:\n",
    "            lado2 = float(lado2)\n",
    "            print(\"Perímetro do retângulo:\", perimetro_retangulo(lado1, lado2))\n",
    "\n",
    "        else:\n",
    "            print(\"Perímetro do quadrado:\", perimetro_retangulo(lado1))\n",
    "\n",
    "    elif opcao == '4':\n",
    "        print(\"Saindo programa...\")\n",
    "        break\n",
    "    else:\n",
    "        print(\"Opção inválida. Tente novamente.\")"
   ]
  },
  {
   "cell_type": "markdown",
   "id": "3016bcc7",
   "metadata": {},
   "source": [
    "## Funções ```lambda```"
   ]
  },
  {
   "cell_type": "markdown",
   "id": "f9cdb8dd",
   "metadata": {},
   "source": [
    "### Q6.\n",
    "\n",
    "Crie uma função lambda para verificar se um número é par ou ímpar. Em seguida, solicite ao usuário um número indefinidos de valores (até que o usuário digite 0). Para cada valor de entrada, informe se é par ou ímpar.\n",
    "\n",
    "Exemplo de interação:\n",
    "```\n",
    "Digite os valores que deseja verificar a paridade (digite 0 para finalizar a entrada de dados):\n",
    "3\n",
    "ímpar\n",
    "8\n",
    "par\n",
    "12\n",
    "par\n",
    "5\n",
    "ímpar\n",
    "7ímpar\n",
    "```"
   ]
  },
  {
   "cell_type": "code",
   "execution_count": 13,
   "id": "e3c31a78",
   "metadata": {},
   "outputs": [
    {
     "name": "stdout",
     "output_type": "stream",
     "text": [
      "Digite os valores que deseja verificar se é par ou ímpar (0 para finalizar): \n",
      "3\n",
      "impar\n",
      "8\n",
      "par\n",
      "12\n",
      "par\n",
      "5\n",
      "impar\n"
     ]
    }
   ],
   "source": [
    "par_ou_impar = lambda x: \"par\" if x % 2 == 0 else \"impar\"\n",
    "\n",
    "print(\"Digite os valores que deseja verificar se é par ou ímpar (0 para finalizar): \")\n",
    "\n",
    "while True:\n",
    "    valor = int(input())\n",
    "    if valor == 0:\n",
    "        break\n",
    "    print(valor)\n",
    "    print(par_ou_impar (valor))"
   ]
  },
  {
   "cell_type": "markdown",
   "id": "5a87474d",
   "metadata": {},
   "source": [
    "### Q7.\n",
    "\n",
    "Escreva um programa que pergunte ao usuário qual operação ele deseja: maior ou menor.\n",
    "Em seguida leia uma quantidade indefinida de valores do usuário, até que o usuário digite o valor zero.\n",
    "Apresente ao final o maior ou menor dos valores digitados de acordo com a escolha do usuário.\n",
    "\n",
    "**Sua solução deve incluir pelo menos uma função ```lambda```** \n",
    "\n",
    "Exemplo de interação:\n",
    "```\n",
    "Opções: (1) maior ou (2) menor?\n",
    "Opção: 1\n",
    "\n",
    "Digite os valores de entrada. Digite 0 para finalizar a entrada de valores.\n",
    "4\n",
    "12\n",
    "15\n",
    "1\n",
    "0\n",
    "\n",
    "O maior valor é: 15\n",
    "```"
   ]
  },
  {
   "cell_type": "code",
   "execution_count": 11,
   "id": "ee3f68ca",
   "metadata": {},
   "outputs": [
    {
     "name": "stdout",
     "output_type": "stream",
     "text": [
      "\n",
      "Digite os valores de entrada. Digite 0 para finalizar a entrada de valores: \n",
      "\n",
      "O maior valor é: 15\n"
     ]
    }
   ],
   "source": [
    "opcao = int(input(\"Opções: (1) maior ou (2) menor?\\nOpção: \"))\n",
    "\n",
    "operacao = (lambda lista: max(lista)) if opcao == 1 else (lambda lista: min(lista))\n",
    "\n",
    "valores = []\n",
    "\n",
    "print(\"\\nDigite os valores de entrada. Digite 0 para finalizar a entrada de valores: \")\n",
    "\n",
    "while True:\n",
    "    valor = int(input())\n",
    "    if valor == 0:\n",
    "        break\n",
    "    valores.append(valor)\n",
    "\n",
    "if valores:\n",
    "    resultado = operacao(valores)\n",
    "    if opcao == 1:\n",
    "        print(f\"\\nO maior valor é: {resultado}\")\n",
    "    else:\n",
    "        print(f\"\\nO menor valor é: {resultado}\")\n",
    "else:\n",
    "    print(\"Nenhum valor foi inserido>\")"
   ]
  }
 ],
 "metadata": {
  "kernelspec": {
   "display_name": "Python 3",
   "language": "python",
   "name": "python3"
  },
  "language_info": {
   "codemirror_mode": {
    "name": "ipython",
    "version": 3
   },
   "file_extension": ".py",
   "mimetype": "text/x-python",
   "name": "python",
   "nbconvert_exporter": "python",
   "pygments_lexer": "ipython3",
   "version": "3.13.3"
  }
 },
 "nbformat": 4,
 "nbformat_minor": 5
}
